{
  "nbformat": 4,
  "nbformat_minor": 0,
  "metadata": {
    "colab": {
      "name": "CourFour-FinalCode.ipynb",
      "provenance": [],
      "collapsed_sections": []
    },
    "kernelspec": {
      "name": "python3",
      "display_name": "Python 3"
    },
    "language_info": {
      "name": "python"
    },
    "accelerator": "GPU"
  },
  "cells": [
    {
      "cell_type": "code",
      "metadata": {
        "colab": {
          "base_uri": "https://localhost:8080/"
        },
        "id": "c-ujKHuEOQKl",
        "outputId": "7e4272d8-a44d-4b7a-a43a-6893debe9e5c"
      },
      "source": [
        "from google.colab import drive\n",
        "drive.mount('/content/gdrive')"
      ],
      "execution_count": null,
      "outputs": [
        {
          "output_type": "stream",
          "name": "stdout",
          "text": [
            "Mounted at /content/gdrive\n"
          ]
        }
      ]
    },
    {
      "cell_type": "code",
      "metadata": {
        "id": "5HdVqVo4P30_"
      },
      "source": [
        "!unzip gdrive/My\\ Drive/CNN_AD/Kaggle-4ClassesOfImages.zip"
      ],
      "execution_count": null,
      "outputs": []
    },
    {
      "cell_type": "markdown",
      "metadata": {
        "id": "QBV3kMQBwHOl"
      },
      "source": [
        "Setup"
      ]
    },
    {
      "cell_type": "code",
      "metadata": {
        "id": "4CJxBwcuwFCf"
      },
      "source": [
        "import os\n",
        "import numpy as np\n",
        "import pandas as pd\n",
        "import tensorflow as tf\n",
        "import matplotlib.pyplot as plt\n",
        "import PIL\n",
        "\n",
        "strategy = tf.distribute.get_strategy()\n",
        "print('Number of replicas:', strategy.num_replicas_in_sync)\n",
        "    \n",
        "print(tf.__version__)"
      ],
      "execution_count": null,
      "outputs": []
    },
    {
      "cell_type": "code",
      "metadata": {
        "id": "Nip4VyITwaX5"
      },
      "source": [
        "AUTOTUNE = tf.data.experimental.AUTOTUNE\n",
        "BTC_SZ = 16 * strategy.num_replicas_in_sync # here we have used one GPU :: strategy.num.num_replicas_in_sync = 1\n",
        "IMG_SIZE = [176, 208] \n",
        "EPOCHS = 80"
      ],
      "execution_count": null,
      "outputs": []
    },
    {
      "cell_type": "code",
      "metadata": {
        "id": "-LYm4RiTwlAX"
      },
      "source": [
        "train_dataset = tf.keras.preprocessing.image_dataset_from_directory(\n",
        "    \"/content/Alzheimer_s Dataset/train\",\n",
        "    validation_split=0.2,\n",
        "    subset=\"training\",\n",
        "    shuffle=True,\n",
        "    seed=600, #random seed for shuffling and transformations.\n",
        "    image_size=IMG_SIZE,\n",
        "    batch_size=BTC_SZ,\n",
        ")\n",
        "\n",
        "validation_dataset = tf.keras.preprocessing.image_dataset_from_directory(\n",
        "    \"/content/Alzheimer_s Dataset/train\",\n",
        "    validation_split=0.2,\n",
        "    subset=\"validation\",\n",
        "    shuffle=True,\n",
        "    seed=600, #random seed for shuffling and transformations.\n",
        "    image_size=IMAGE_SIZE,\n",
        "    batch_size=BTC_SZ,\n",
        ")"
      ],
      "execution_count": null,
      "outputs": []
    },
    {
      "cell_type": "code",
      "metadata": {
        "id": "bbiH9p_Tw7Y2"
      },
      "source": [
        "CLASS_NAMES = ['MildDementia', 'ModerateDementia', 'NonDementia', 'VeryMildDementia']\n",
        "train_dataset.class_names =  CLASS_NAMES\n",
        "validation_dataset.class_names = CLASS_NAMES\n",
        "NUM_CLASSES = len(CLASS_NAMES)"
      ],
      "execution_count": null,
      "outputs": []
    },
    {
      "cell_type": "code",
      "metadata": {
        "id": "1WMdkiBhw_yW"
      },
      "source": [
        "# Image Visualization \n",
        "plt.figure(figsize=(10, 10))\n",
        "for images, labels in train_dataset.take(1):\n",
        "  for i in range(16):\n",
        "    ax = plt.subplot(4, 4, i + 1)\n",
        "    plt.imshow(images[i].numpy().astype(\"uint8\"))\n",
        "    plt.title(train_dataset.class_names[labels[i]])\n",
        "    plt.axis(\"off\")"
      ],
      "execution_count": null,
      "outputs": []
    },
    {
      "cell_type": "code",
      "metadata": {
        "id": "9kvpTMplxEVV"
      },
      "source": [
        "# As this data is not balanced we used one_hot_encodings\n",
        "def one_hot_label(image, label):\n",
        "    label = tf.one_hot(label, NUM_CLASSES)\n",
        "    return image, label\n",
        "\n",
        "train_dataset = train_dataset.map(one_hot_label, num_parallel_calls=AUTOTUNE)\n",
        "validaion_dataset = validation_dataset.map(one_hot_label, num_parallel_calls=AUTOTUNE)"
      ],
      "execution_count": null,
      "outputs": []
    },
    {
      "cell_type": "code",
      "metadata": {
        "id": "8-N5WCNmjDNs"
      },
      "source": [
        "train_dataset = train_dataset.cache().prefetch(buffer_size=AUTOTUNE)\n",
        "validation_dataset = validation_dataset.cache().prefetch(buffer_size=AUTOTUNE)"
      ],
      "execution_count": null,
      "outputs": []
    },
    {
      "cell_type": "code",
      "metadata": {
        "id": "FAtN5Kdxyob2"
      },
      "source": [
        "# Code to check how many images in a data under each class\n",
        "IMAGES_ = []\n",
        "for label in CLASS_NAMES:\n",
        "    directory_name = \"/content/Alzheimer_s Dataset/train/\" + label[:-2] + 'ed'\n",
        "    IMAGES_.append(len([name for name in os.listdir(directory_name)]))"
      ],
      "execution_count": null,
      "outputs": []
    },
    {
      "cell_type": "code",
      "metadata": {
        "id": "1EUHxSzPyxio"
      },
      "source": [
        "IMAGES_"
      ],
      "execution_count": null,
      "outputs": []
    },
    {
      "cell_type": "code",
      "metadata": {
        "id": "hTHSGXWRy5PA"
      },
      "source": [
        "# Separable convolutions consist of first performing a depthwise spatial convolution\n",
        "def convolution_block(filters_details):\n",
        "    convolution_block = tf.keras.Sequential([\n",
        "        tf.keras.layers.SeparableConv2D(filters_details, 3, activation='relu', padding='same'),\n",
        "        tf.keras.layers.SeparableConv2D(filters_details, 3, activation='relu', padding='same'),\n",
        "        tf.keras.layers.BatchNormalization(),\n",
        "        tf.keras.layers.MaxPool2D()\n",
        "    ]\n",
        "    ) \n",
        "    return convolution_block"
      ],
      "execution_count": null,
      "outputs": []
    },
    {
      "cell_type": "code",
      "metadata": {
        "id": "JEF_fQEMy9_o"
      },
      "source": [
        "def dense_block(units, dropout_rate):\n",
        "    block = tf.keras.Sequential([\n",
        "        tf.keras.layers.Dense(units, activation='relu'),\n",
        "        tf.keras.layers.BatchNormalization(),\n",
        "        tf.keras.layers.Dropout(dropout_rate)\n",
        "    ])\n",
        "    \n",
        "    return block"
      ],
      "execution_count": null,
      "outputs": []
    },
    {
      "cell_type": "code",
      "metadata": {
        "id": "zs0Nrlr2zIsL"
      },
      "source": [
        "def define_model():\n",
        "    model = tf.keras.Sequential([\n",
        "        tf.keras.Input(shape=(*IMAGE_SIZE, 3)),\n",
        "        \n",
        "        tf.keras.layers.Conv2D(16, 3, activation='relu', padding='same'),\n",
        "        tf.keras.layers.Conv2D(16, 3, activation='relu', padding='same'),\n",
        "        tf.keras.layers.MaxPool2D(),\n",
        "        \n",
        "        convolution_block(32),\n",
        "        convolution_block(64),\n",
        "        \n",
        "        convolution_block(128),\n",
        "        tf.keras.layers.Dropout(0.2),\n",
        "  \n",
        "        convolution_block(256),\n",
        "        tf.keras.layers.Dropout(0.2),\n",
        "\n",
        "        tf.keras.layers.Flatten(),\n",
        "        dense_block(512, 0.7),\n",
        "        dense_block(128, 0.5),\n",
        "        dense_block(64, 0.3),\n",
        "        tf.keras.layers.Dense(NUM_CLASSES, activation='softmax')\n",
        "    ])\n",
        "    \n",
        "    return model"
      ],
      "execution_count": null,
      "outputs": []
    },
    {
      "cell_type": "code",
      "metadata": {
        "id": "7FXREkKIzMaN"
      },
      "source": [
        "with strategy.scope():\n",
        "    model = define_model()\n",
        "\n",
        "    METRICS = [tf.keras.metrics.AUC(name='auc')]\n",
        "    \n",
        "    model.compile(\n",
        "        optimizer='adam',\n",
        "        loss=tf.losses.CategoricalCrossentropy(),\n",
        "        metrics=METRICS\n",
        "    )"
      ],
      "execution_count": null,
      "outputs": []
    },
    {
      "cell_type": "code",
      "metadata": {
        "id": "XxZyQsiezQlD"
      },
      "source": [
        "def exponential_decay(lr0, s):\n",
        "    def exponential_decay_function(epoch):\n",
        "        return lr0 * 0.1 **(epoch / s)\n",
        "    return exponential_decay_fn\n",
        "\n",
        "exponential_decay_function = exponential_decay(0.01, 20)\n",
        "\n",
        "lr_scheduler = tf.keras.callbacks.LearningRateScheduler(exponential_decay_function)\n",
        "\n",
        "checkpoint_cb = tf.keras.callbacks.ModelCheckpoint(\"alzheimer_model.h5\",\n",
        "                                                    save_best_only=True)\n",
        "\n",
        "early_stopping_cb = tf.keras.callbacks.EarlyStopping(patience=10,\n",
        "                                                     restore_best_weights=True)"
      ],
      "execution_count": null,
      "outputs": []
    },
    {
      "cell_type": "code",
      "metadata": {
        "id": "mSKbtTobzT--"
      },
      "source": [
        "history = model.fit(\n",
        "    train_dataset,\n",
        "    validation_data=validation_dataset,\n",
        "    callbacks=[checkpoint_cb, early_stopping_cb, lr_scheduler],\n",
        "    epochs=EPOCHS\n",
        ")"
      ],
      "execution_count": null,
      "outputs": []
    },
    {
      "cell_type": "code",
      "metadata": {
        "id": "6csrIWnw_G0J"
      },
      "source": [
        "fig, ax = plt.subplots(1, 2, figsize=(20, 3))\n",
        "ax = ax.ravel()\n",
        "\n",
        "for i, met in enumerate(['auc', 'loss']):\n",
        "    ax[i].plot(history.history[met])\n",
        "    ax[i].plot(history.history['val_' + met])\n",
        "    ax[i].set_title('Model {}'.format(met))\n",
        "    ax[i].set_xlabel('epochs')\n",
        "    ax[i].set_ylabel(met)\n",
        "    ax[i].legend(['train', 'val'])"
      ],
      "execution_count": null,
      "outputs": []
    },
    {
      "cell_type": "code",
      "metadata": {
        "id": "zoaqhbT0_Vaw"
      },
      "source": [
        "test_dataset = tf.keras.preprocessing.image_dataset_from_directory(\n",
        "    \"/content/Alzheimer_s Dataset/test\",\n",
        "    image_size=IMG_SIZE,\n",
        "    batch_size=BTC_SZ,\n",
        ")\n",
        "\n",
        "test_dataset = test_dataset.map(one_hot_label, num_parallel_calls=AUTOTUNE)\n",
        "test_dataset = test_dataset.cache().prefetch(buffer_size=AUTOTUNE)"
      ],
      "execution_count": null,
      "outputs": []
    },
    {
      "cell_type": "code",
      "metadata": {
        "id": "Y_6fzeKe_cnY"
      },
      "source": [
        "Test = model.evaluate(test_dataset)"
      ],
      "execution_count": null,
      "outputs": []
    }
  ]
}